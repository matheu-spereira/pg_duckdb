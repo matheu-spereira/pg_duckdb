{
 "cells": [
  {
   "cell_type": "code",
   "execution_count": 1,
   "id": "4cae8165-c7f8-4ba3-8c52-5dc0138d1af3",
   "metadata": {},
   "outputs": [],
   "source": [
    "from pyspark.sql import SparkSession\n",
    "from delta import *\n",
    "import os\n",
    "from delta.tables import DeltaTable"
   ]
  },
  {
   "cell_type": "code",
   "execution_count": 2,
   "id": "f7ec1fd2-98d3-4f9c-9faa-bb31266a7c3d",
   "metadata": {},
   "outputs": [],
   "source": [
    "spark = SparkSession.builder \\\n",
    "            .master(\"spark://spark-master:7077\") \\\n",
    "            .config(\"spark.jars.packages\", \n",
    "                    \"org.apache.hadoop:hadoop-aws:3.2.2,\"\n",
    "                    \"io.delta:delta-spark_2.12:3.2.0,\"\n",
    "                    \"io.delta:delta-storage:3.2.0,\"\n",
    "                    \"com.amazonaws:aws-java-sdk-bundle:1.12.180,\" \n",
    "                    \"org.postgresql:postgresql:42.2.20\") \\\n",
    "            .config(\"spark.executor.memory\", \"4g\") \\\n",
    "            .config(\"spark.executor.cores\", \"2\") \\\n",
    "            .config(\"spark.driver.memory\", \"4g\") \\\n",
    "            .config(\"spark.driver.cores\", \"2\") \\\n",
    "            .config(\"spark.dynamicAllocation.enabled\", \"true\") \\\n",
    "            .config(\"spark.dynamicAllocation.minExecutors\", \"1\") \\\n",
    "            .config(\"spark.dynamicAllocation.maxExecutors\", \"2\") \\\n",
    "            .config(\"spark.sql.extensions\", \"io.delta.sql.DeltaSparkSessionExtension\") \\\n",
    "            .config(\"spark.sql.catalog.spark_catalog\", \"org.apache.spark.sql.delta.catalog.DeltaCatalog\") \\\n",
    "\t        .config(\"spark.hadoop.fs.s3a.endpoint\", os.getenv(\"MINIO_HOST\")) \\\n",
    "            .config(\"spark.hadoop.fs.s3a.access.key\", os.getenv(\"MINIO_ACCESS_KEY\")) \\\n",
    "            .config(\"spark.hadoop.fs.s3a.secret.key\", os.getenv(\"MINIO_SECRET_KEY\")) \\\n",
    "            .config(\"spark.hadoop.fs.s3a.path.style.access\", \"true\") \\\n",
    "            .config(\"spark.hadoop.com.amazonaws.services.s3.enableV4\", \"true\") \\\n",
    "            .config(\"spark.hadoop.fs.s3a.aws.credentials.provider\",\"org.apache.hadoop.fs.s3a.SimpleAWSCredentialsProvider\") \\\n",
    "            .config(\"spark.hadoop.fs.AbstractFileSystem.s3a.impl\",\"org.apache.hadoop.fs.s3a.S3A\") \\\n",
    "            .getOrCreate()    "
   ]
  },
  {
   "cell_type": "code",
   "execution_count": 3,
   "id": "faa9b685-6330-4667-a180-38da189d58af",
   "metadata": {},
   "outputs": [],
   "source": [
    "#lendo tabela\n",
    "emp_path = \"s3a://gold/educacao/fat_producao\"\n",
    "spark.read.format(\"delta\").load(emp_path).createOrReplaceTempView(\"fat_producao\")"
   ]
  },
  {
   "cell_type": "code",
   "execution_count": 4,
   "id": "cee9da67-846f-4873-a3f8-d6efbfdceed5",
   "metadata": {},
   "outputs": [],
   "source": [
    "df  = spark.table(\"fat_producao\")"
   ]
  },
  {
   "cell_type": "code",
   "execution_count": 5,
   "id": "08e59611-a920-4e5b-bd04-a79caf0cf8ff",
   "metadata": {},
   "outputs": [
    {
     "data": {
      "text/plain": [
       "81988018"
      ]
     },
     "execution_count": 5,
     "metadata": {},
     "output_type": "execute_result"
    }
   ],
   "source": [
    "df.count()"
   ]
  },
  {
   "cell_type": "code",
   "execution_count": 6,
   "id": "965fd548-037f-4e96-b88c-dce70dc40c87",
   "metadata": {},
   "outputs": [],
   "source": [
    "driver = 'org.postgresql.Driver'\n",
    "jar = f\"/home/jovyan/work/jars/postgresql-42.2.20.jar\"\n",
    "jdbc_url = f\"jdbc:postgresql://paradedb:5432/postgres\"\n",
    "properties = {\n",
    "                \"user\": \"teste2\",\n",
    "                \"password\": \"teste2\",\n",
    "                \"driver\": f\"{driver}\"\n",
    "            }\n",
    "##\"numPartitions\": \"1\""
   ]
  },
  {
   "cell_type": "code",
   "execution_count": 7,
   "id": "4516cba2-33ea-4295-a786-8cf88d91192f",
   "metadata": {},
   "outputs": [],
   "source": [
    "df.write.jdbc(jdbc_url, table='public.teste', mode=\"overwrite\", properties=properties) \n",
    "\n",
    "# df_delta.write \\\n",
    "# .format(\"jdbc\") \\\n",
    "# .mode(\"overwrite\") \\\n",
    "# .option(\"url\", self.jdbc_url) \\\n",
    "# .option(\"dbtable\", nome_tabela_consume) \\\n",
    "# .option(\"batchsize\", \"500000\") \\\n",
    "# .option(\"isolationLevel\", \"READ_COMMITTED\") \\\n",
    "# .options(**self.properties) \\\n",
    "# .save()"
   ]
  },
  {
   "cell_type": "code",
   "execution_count": 8,
   "id": "138c2a68-f77a-460f-8df0-08f0db599e8b",
   "metadata": {},
   "outputs": [],
   "source": [
    "spark.stop()"
   ]
  }
 ],
 "metadata": {
  "kernelspec": {
   "display_name": "Python 3 (ipykernel)",
   "language": "python",
   "name": "python3"
  },
  "language_info": {
   "codemirror_mode": {
    "name": "ipython",
    "version": 3
   },
   "file_extension": ".py",
   "mimetype": "text/x-python",
   "name": "python",
   "nbconvert_exporter": "python",
   "pygments_lexer": "ipython3",
   "version": "3.11.9"
  }
 },
 "nbformat": 4,
 "nbformat_minor": 5
}
