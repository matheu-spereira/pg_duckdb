{
 "cells": [
  {
   "cell_type": "code",
   "execution_count": 1,
   "id": "4cae8165-c7f8-4ba3-8c52-5dc0138d1af3",
   "metadata": {},
   "outputs": [],
   "source": [
    "from pyspark.sql import SparkSession\n",
    "from delta import *\n",
    "import os\n",
    "from delta.tables import DeltaTable"
   ]
  },
  {
   "cell_type": "code",
   "execution_count": 2,
   "id": "f7ec1fd2-98d3-4f9c-9faa-bb31266a7c3d",
   "metadata": {},
   "outputs": [],
   "source": [
    "spark = SparkSession.builder \\\n",
    "            .master(\"spark://spark-master:7077\") \\\n",
    "            .config(\"spark.jars.packages\", \n",
    "                    \"org.apache.hadoop:hadoop-aws:3.2.2,\"\n",
    "                    \"io.delta:delta-spark_2.12:3.2.0,\"\n",
    "                    \"io.delta:delta-storage:3.2.0,\"\n",
    "                    \"com.amazonaws:aws-java-sdk-bundle:1.12.180\") \\\n",
    "            .config(\"spark.executor.memory\", \"4g\") \\\n",
    "            .config(\"spark.executor.cores\", \"2\") \\\n",
    "            .config(\"spark.driver.memory\", \"4g\") \\\n",
    "            .config(\"spark.driver.cores\", \"2\") \\\n",
    "            .config(\"spark.dynamicAllocation.enabled\", \"true\") \\\n",
    "            .config(\"spark.dynamicAllocation.minExecutors\", \"1\") \\\n",
    "            .config(\"spark.dynamicAllocation.maxExecutors\", \"2\") \\\n",
    "            .config(\"spark.sql.extensions\", \"io.delta.sql.DeltaSparkSessionExtension\") \\\n",
    "            .config(\"spark.sql.catalog.spark_catalog\", \"org.apache.spark.sql.delta.catalog.DeltaCatalog\") \\\n",
    "\t        .config(\"spark.hadoop.fs.s3a.endpoint\", os.getenv(\"MINIO_HOST\")) \\\n",
    "            .config(\"spark.hadoop.fs.s3a.access.key\", os.getenv(\"MINIO_ACCESS_KEY\")) \\\n",
    "            .config(\"spark.hadoop.fs.s3a.secret.key\", os.getenv(\"MINIO_SECRET_KEY\")) \\\n",
    "            .config(\"spark.hadoop.fs.s3a.path.style.access\", \"true\") \\\n",
    "            .config(\"spark.hadoop.com.amazonaws.services.s3.enableV4\", \"true\") \\\n",
    "            .config(\"spark.hadoop.fs.s3a.aws.credentials.provider\",\"org.apache.hadoop.fs.s3a.SimpleAWSCredentialsProvider\") \\\n",
    "            .config(\"spark.hadoop.fs.AbstractFileSystem.s3a.impl\",\"org.apache.hadoop.fs.s3a.S3A\") \\\n",
    "            .getOrCreate()    "
   ]
  },
  {
   "cell_type": "code",
   "execution_count": 3,
   "id": "57716f75-1404-49e0-b644-720aa07f8cd3",
   "metadata": {},
   "outputs": [
    {
     "data": {
      "text/plain": [
       "DataFrame[]"
      ]
     },
     "execution_count": 3,
     "metadata": {},
     "output_type": "execute_result"
    }
   ],
   "source": [
    "# Definindo o caminho do MinIO para armazenar os dados no formato Delta\n",
    "emp_path = \"s3a://silver/employe\"\n",
    "\n",
    "# Criando a tabela de destino 'emp' no formato Delta\n",
    "spark.sql(f\"\"\"\n",
    "CREATE TABLE IF NOT EXISTS employe (\n",
    "    emp_id INT,\n",
    "    emp_name STRING,\n",
    "    dept_code STRING,\n",
    "    salary DOUBLE\n",
    ") USING DELTA LOCATION '{emp_path}'\n",
    "\"\"\")\n",
    "\n",
    "\n",
    "# Inserindo valores fictícios na tabela dev_bronze_emp\n",
    "spark.sql(\"\"\"\n",
    "INSERT INTO employe (emp_id, emp_name, dept_code, salary)\n",
    "VALUES \n",
    "    (1001, 'Alice', 'D101', 55000),\n",
    "    (1002, 'Bob', 'D102', 60000),\n",
    "    (1003, 'Charlie', 'D103', 75000),\n",
    "    (1004, 'David', 'D104', 65000),\n",
    "    (1005, 'Eve', 'D105', 70000)\n",
    "\"\"\")"
   ]
  },
  {
   "cell_type": "code",
   "execution_count": 13,
   "id": "e89ee605-e76c-45e2-a2fe-5559847f2b52",
   "metadata": {},
   "outputs": [
    {
     "name": "stdout",
     "output_type": "stream",
     "text": [
      "+------+--------+---------+-------+\n",
      "|emp_id|emp_name|dept_code| salary|\n",
      "+------+--------+---------+-------+\n",
      "|  1001|   Alice|     D101| 1000.0|\n",
      "|  1002|     Bob|     D102|60000.0|\n",
      "|  1006| Matheus|     D106| 8900.0|\n",
      "|  1003| Charlie|     D103|75000.0|\n",
      "|  1004|   David|     D104|65000.0|\n",
      "|  1005|     Eve|     D105|70000.0|\n",
      "+------+--------+---------+-------+\n",
      "\n"
     ]
    }
   ],
   "source": [
    "spark.sql(\"SELECT * FROM employe\").show()"
   ]
  },
  {
   "cell_type": "code",
   "execution_count": 9,
   "id": "cd6b3e25-95bf-4334-8a71-eeac72d434dc",
   "metadata": {},
   "outputs": [
    {
     "data": {
      "text/plain": [
       "DataFrame[]"
      ]
     },
     "execution_count": 9,
     "metadata": {},
     "output_type": "execute_result"
    }
   ],
   "source": [
    "# updates_path = \"s3a://bronze/employe\"\n",
    "# # Criando a tabela de origem 'updates' no formato Delta\n",
    "# spark.sql(f\"\"\"\n",
    "# CREATE TABLE IF NOT EXISTS employe_update (\n",
    "#     emp_id INT,\n",
    "#     emp_name STRING,\n",
    "#     dept_code STRING,\n",
    "#     salary DOUBLE\n",
    "# ) USING DELTA LOCATION '{updates_path}'\n",
    "# \"\"\")\n",
    "\n",
    "# # Inserindo valores fictícios na tabela dev_bronze_updates\n",
    "# spark.sql(\"\"\"\n",
    "# INSERT INTO employe_update (emp_id, emp_name, dept_code, salary)\n",
    "# VALUES \n",
    "#     (1001, 'Alice', 'D101', 58000),  -- Atualização do salário de Alice\n",
    "#     (1002, 'Bob', 'D102', 62000),    -- Atualização do salário de Bob\n",
    "#     (1006, 'Frank', 'D106', 70000),  -- Novo funcionário (não existe na tabela de emp)\n",
    "#     (1007, 'Grace', 'D107', 75000)   -- Novo funcionário (não existe na tabela de emp)\n",
    "# \"\"\")\n",
    "\n",
    "\n",
    "updates_path = \"s3a://bronze/employe\"\n",
    "# Criando a tabela de origem 'updates' no formato Delta\n",
    "spark.sql(f\"\"\"\n",
    "CREATE TABLE IF NOT EXISTS employe_update (\n",
    "    emp_id INT,\n",
    "    emp_name STRING,\n",
    "    dept_code STRING,\n",
    "    salary DOUBLE\n",
    ") USING DELTA LOCATION '{updates_path}'\n",
    "\"\"\")\n",
    "\n",
    "# Inserindo valores fictícios na tabela dev_bronze_updates\n",
    "spark.sql(\"\"\"\n",
    "INSERT INTO employe_update (emp_id, emp_name, dept_code, salary)\n",
    "VALUES \n",
    "    (1001, 'Alice', 'D101', 1000)  -- Atualização do salário de Alice\n",
    "    (1006, 'Matheus', 'D106', 8900) -- Novo funcionário\n",
    "\"\"\")"
   ]
  },
  {
   "cell_type": "code",
   "execution_count": 10,
   "id": "e5e83b12-6a98-4deb-bd4a-81f8ca7553bf",
   "metadata": {},
   "outputs": [
    {
     "name": "stdout",
     "output_type": "stream",
     "text": [
      "+------+--------+---------+------+\n",
      "|emp_id|emp_name|dept_code|salary|\n",
      "+------+--------+---------+------+\n",
      "|  1006| Matheus|     D106|8900.0|\n",
      "|  1001|   Alice|     D101|1000.0|\n",
      "+------+--------+---------+------+\n",
      "\n"
     ]
    }
   ],
   "source": [
    "spark.sql(\"SELECT * FROM employe_update\").show()"
   ]
  },
  {
   "cell_type": "markdown",
   "id": "de7e50f0-89f3-4309-b9d1-46292b2c2e58",
   "metadata": {},
   "source": [
    "# MERGE 1"
   ]
  },
  {
   "cell_type": "code",
   "execution_count": 11,
   "id": "2423fea2-05fe-4cc3-99d7-5a2986771c70",
   "metadata": {},
   "outputs": [
    {
     "data": {
      "text/plain": [
       "DataFrame[num_affected_rows: bigint, num_updated_rows: bigint, num_deleted_rows: bigint, num_inserted_rows: bigint]"
      ]
     },
     "execution_count": 11,
     "metadata": {},
     "output_type": "execute_result"
    }
   ],
   "source": [
    "# Realizando o MERGE (Upsert) entre employe e employe_update usando Spark SQL\n",
    "spark.sql(\"\"\"\n",
    "MERGE INTO employe AS e\n",
    "USING employe_update AS u\n",
    "ON e.emp_id = u.emp_id\n",
    "WHEN MATCHED THEN\n",
    "    UPDATE SET e.salary = u.salary\n",
    "WHEN NOT MATCHED THEN\n",
    "    INSERT *\n",
    "\"\"\")"
   ]
  },
  {
   "cell_type": "code",
   "execution_count": 12,
   "id": "28c09c5e-7b14-4b5d-8b3e-b622f42380c2",
   "metadata": {},
   "outputs": [
    {
     "name": "stdout",
     "output_type": "stream",
     "text": [
      "+------+--------+---------+-------+\n",
      "|emp_id|emp_name|dept_code| salary|\n",
      "+------+--------+---------+-------+\n",
      "|  1001|   Alice|     D101| 1000.0|\n",
      "|  1002|     Bob|     D102|60000.0|\n",
      "|  1006| Matheus|     D106| 8900.0|\n",
      "|  1003| Charlie|     D103|75000.0|\n",
      "|  1004|   David|     D104|65000.0|\n",
      "|  1005|     Eve|     D105|70000.0|\n",
      "+------+--------+---------+-------+\n",
      "\n"
     ]
    }
   ],
   "source": [
    "spark.sql(\"SELECT * FROM employe\").show()"
   ]
  },
  {
   "cell_type": "code",
   "execution_count": 9,
   "id": "5b1e6bc0-f898-49e2-8326-79136b7fec23",
   "metadata": {},
   "outputs": [
    {
     "name": "stdout",
     "output_type": "stream",
     "text": [
      "-RECORD 0----------------------------------------------------------------------------------------------------------------------------------------------------------------------------------------------------------------------------------------------------------------------------------------------------------------------------------------------------------------------------------------------------------------------------------------------------------------------------------------------------------------------------------------------------------------------------------------------------------------------------------------------------------------------\n",
      " version             | 2                                                                                                                                                                                                                                                                                                                                                                                                                                                                                                                                                                                                                                                       \n",
      " timestamp           | 2025-03-29 17:09:03                                                                                                                                                                                                                                                                                                                                                                                                                                                                                                                                                                                                                                     \n",
      " userId              | NULL                                                                                                                                                                                                                                                                                                                                                                                                                                                                                                                                                                                                                                                    \n",
      " userName            | NULL                                                                                                                                                                                                                                                                                                                                                                                                                                                                                                                                                                                                                                                    \n",
      " operation           | MERGE                                                                                                                                                                                                                                                                                                                                                                                                                                                                                                                                                                                                                                                   \n",
      " operationParameters | {predicate -> [\"(emp_id#1464 = emp_id#1468)\"], matchedPredicates -> [{\"actionType\":\"update\"}], notMatchedPredicates -> [{\"actionType\":\"insert\"}], notMatchedBySourcePredicates -> []}                                                                                                                                                                                                                                                                                                                                                                                                                                                                   \n",
      " job                 | NULL                                                                                                                                                                                                                                                                                                                                                                                                                                                                                                                                                                                                                                                    \n",
      " notebook            | NULL                                                                                                                                                                                                                                                                                                                                                                                                                                                                                                                                                                                                                                                    \n",
      " clusterId           | NULL                                                                                                                                                                                                                                                                                                                                                                                                                                                                                                                                                                                                                                                    \n",
      " readVersion         | 1                                                                                                                                                                                                                                                                                                                                                                                                                                                                                                                                                                                                                                                       \n",
      " isolationLevel      | Serializable                                                                                                                                                                                                                                                                                                                                                                                                                                                                                                                                                                                                                                            \n",
      " isBlindAppend       | false                                                                                                                                                                                                                                                                                                                                                                                                                                                                                                                                                                                                                                                   \n",
      " operationMetrics    | {numTargetRowsCopied -> 0, numTargetRowsDeleted -> 0, numTargetFilesAdded -> 1, numTargetBytesAdded -> 1270, numTargetBytesRemoved -> 1219, numTargetDeletionVectorsAdded -> 0, numTargetRowsMatchedUpdated -> 2, executionTimeMs -> 1904, numTargetRowsInserted -> 2, numTargetRowsMatchedDeleted -> 0, numTargetDeletionVectorsUpdated -> 0, scanTimeMs -> 1268, numTargetRowsUpdated -> 2, numOutputRows -> 4, numTargetDeletionVectorsRemoved -> 0, numTargetRowsNotMatchedBySourceUpdated -> 0, numTargetChangeFilesAdded -> 0, numSourceRows -> 4, numTargetFilesRemoved -> 1, numTargetRowsNotMatchedBySourceDeleted -> 0, rewriteTimeMs -> 620} \n",
      " userMetadata        | NULL                                                                                                                                                                                                                                                                                                                                                                                                                                                                                                                                                                                                                                                    \n",
      " engineInfo          | Apache-Spark/3.5.2 Delta-Lake/3.2.0                                                                                                                                                                                                                                                                                                                                                                                                                                                                                                                                                                                                                     \n",
      "-RECORD 1----------------------------------------------------------------------------------------------------------------------------------------------------------------------------------------------------------------------------------------------------------------------------------------------------------------------------------------------------------------------------------------------------------------------------------------------------------------------------------------------------------------------------------------------------------------------------------------------------------------------------------------------------------------------\n",
      " version             | 1                                                                                                                                                                                                                                                                                                                                                                                                                                                                                                                                                                                                                                                       \n",
      " timestamp           | 2025-03-29 17:08:54                                                                                                                                                                                                                                                                                                                                                                                                                                                                                                                                                                                                                                     \n",
      " userId              | NULL                                                                                                                                                                                                                                                                                                                                                                                                                                                                                                                                                                                                                                                    \n",
      " userName            | NULL                                                                                                                                                                                                                                                                                                                                                                                                                                                                                                                                                                                                                                                    \n",
      " operation           | WRITE                                                                                                                                                                                                                                                                                                                                                                                                                                                                                                                                                                                                                                                   \n",
      " operationParameters | {mode -> Append, partitionBy -> []}                                                                                                                                                                                                                                                                                                                                                                                                                                                                                                                                                                                                                     \n",
      " job                 | NULL                                                                                                                                                                                                                                                                                                                                                                                                                                                                                                                                                                                                                                                    \n",
      " notebook            | NULL                                                                                                                                                                                                                                                                                                                                                                                                                                                                                                                                                                                                                                                    \n",
      " clusterId           | NULL                                                                                                                                                                                                                                                                                                                                                                                                                                                                                                                                                                                                                                                    \n",
      " readVersion         | 0                                                                                                                                                                                                                                                                                                                                                                                                                                                                                                                                                                                                                                                       \n",
      " isolationLevel      | Serializable                                                                                                                                                                                                                                                                                                                                                                                                                                                                                                                                                                                                                                            \n",
      " isBlindAppend       | true                                                                                                                                                                                                                                                                                                                                                                                                                                                                                                                                                                                                                                                    \n",
      " operationMetrics    | {numFiles -> 2, numOutputRows -> 5, numOutputBytes -> 2470}                                                                                                                                                                                                                                                                                                                                                                                                                                                                                                                                                                                             \n",
      " userMetadata        | NULL                                                                                                                                                                                                                                                                                                                                                                                                                                                                                                                                                                                                                                                    \n",
      " engineInfo          | Apache-Spark/3.5.2 Delta-Lake/3.2.0                                                                                                                                                                                                                                                                                                                                                                                                                                                                                                                                                                                                                     \n",
      "-RECORD 2----------------------------------------------------------------------------------------------------------------------------------------------------------------------------------------------------------------------------------------------------------------------------------------------------------------------------------------------------------------------------------------------------------------------------------------------------------------------------------------------------------------------------------------------------------------------------------------------------------------------------------------------------------------------\n",
      " version             | 0                                                                                                                                                                                                                                                                                                                                                                                                                                                                                                                                                                                                                                                       \n",
      " timestamp           | 2025-03-29 17:08:50                                                                                                                                                                                                                                                                                                                                                                                                                                                                                                                                                                                                                                     \n",
      " userId              | NULL                                                                                                                                                                                                                                                                                                                                                                                                                                                                                                                                                                                                                                                    \n",
      " userName            | NULL                                                                                                                                                                                                                                                                                                                                                                                                                                                                                                                                                                                                                                                    \n",
      " operation           | CREATE TABLE                                                                                                                                                                                                                                                                                                                                                                                                                                                                                                                                                                                                                                            \n",
      " operationParameters | {partitionBy -> [], clusterBy -> [], description -> NULL, isManaged -> false, properties -> {}}                                                                                                                                                                                                                                                                                                                                                                                                                                                                                                                                                         \n",
      " job                 | NULL                                                                                                                                                                                                                                                                                                                                                                                                                                                                                                                                                                                                                                                    \n",
      " notebook            | NULL                                                                                                                                                                                                                                                                                                                                                                                                                                                                                                                                                                                                                                                    \n",
      " clusterId           | NULL                                                                                                                                                                                                                                                                                                                                                                                                                                                                                                                                                                                                                                                    \n",
      " readVersion         | NULL                                                                                                                                                                                                                                                                                                                                                                                                                                                                                                                                                                                                                                                    \n",
      " isolationLevel      | Serializable                                                                                                                                                                                                                                                                                                                                                                                                                                                                                                                                                                                                                                            \n",
      " isBlindAppend       | true                                                                                                                                                                                                                                                                                                                                                                                                                                                                                                                                                                                                                                                    \n",
      " operationMetrics    | {}                                                                                                                                                                                                                                                                                                                                                                                                                                                                                                                                                                                                                                                      \n",
      " userMetadata        | NULL                                                                                                                                                                                                                                                                                                                                                                                                                                                                                                                                                                                                                                                    \n",
      " engineInfo          | Apache-Spark/3.5.2 Delta-Lake/3.2.0                                                                                                                                                                                                                                                                                                                                                                                                                                                                                                                                                                                                                     \n",
      "\n"
     ]
    }
   ],
   "source": [
    "spark.sql(\"DESCRIBE HISTORY employe\").show(vertical=True, truncate=False)"
   ]
  },
  {
   "cell_type": "code",
   "execution_count": 10,
   "id": "584ee11e-626d-490e-b17b-8d4e8a4b9173",
   "metadata": {},
   "outputs": [],
   "source": [
    "spark.stop()"
   ]
  }
 ],
 "metadata": {
  "kernelspec": {
   "display_name": "Python 3 (ipykernel)",
   "language": "python",
   "name": "python3"
  },
  "language_info": {
   "codemirror_mode": {
    "name": "ipython",
    "version": 3
   },
   "file_extension": ".py",
   "mimetype": "text/x-python",
   "name": "python",
   "nbconvert_exporter": "python",
   "pygments_lexer": "ipython3",
   "version": "3.11.9"
  }
 },
 "nbformat": 4,
 "nbformat_minor": 5
}
