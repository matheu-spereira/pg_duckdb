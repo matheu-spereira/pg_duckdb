{
 "cells": [
  {
   "cell_type": "code",
   "execution_count": 1,
   "id": "4cae8165-c7f8-4ba3-8c52-5dc0138d1af3",
   "metadata": {},
   "outputs": [],
   "source": [
    "from pyspark.sql import SparkSession\n",
    "from delta import *\n",
    "import os\n",
    "from delta.tables import DeltaTable"
   ]
  },
  {
   "cell_type": "code",
   "execution_count": 2,
   "id": "f7ec1fd2-98d3-4f9c-9faa-bb31266a7c3d",
   "metadata": {},
   "outputs": [],
   "source": [
    "spark = SparkSession.builder \\\n",
    "            .master(\"spark://spark-master:7077\") \\\n",
    "            .config(\"spark.jars.packages\", \n",
    "                    \"org.apache.hadoop:hadoop-aws:3.2.2,\"\n",
    "                    \"io.delta:delta-spark_2.12:3.2.0,\"\n",
    "                    \"io.delta:delta-storage:3.2.0,\"\n",
    "                    \"com.amazonaws:aws-java-sdk-bundle:1.12.180\") \\\n",
    "            .config(\"spark.executor.memory\", \"4g\") \\\n",
    "            .config(\"spark.executor.cores\", \"2\") \\\n",
    "            .config(\"spark.driver.memory\", \"4g\") \\\n",
    "            .config(\"spark.driver.cores\", \"2\") \\\n",
    "            .config(\"spark.dynamicAllocation.enabled\", \"true\") \\\n",
    "            .config(\"spark.dynamicAllocation.minExecutors\", \"1\") \\\n",
    "            .config(\"spark.dynamicAllocation.maxExecutors\", \"2\") \\\n",
    "            .config(\"spark.sql.extensions\", \"io.delta.sql.DeltaSparkSessionExtension\") \\\n",
    "            .config(\"spark.sql.catalog.spark_catalog\", \"org.apache.spark.sql.delta.catalog.DeltaCatalog\") \\\n",
    "\t        .config(\"spark.hadoop.fs.s3a.endpoint\", os.getenv(\"MINIO_HOST\")) \\\n",
    "            .config(\"spark.hadoop.fs.s3a.access.key\", os.getenv(\"MINIO_ACCESS_KEY\")) \\\n",
    "            .config(\"spark.hadoop.fs.s3a.secret.key\", os.getenv(\"MINIO_SECRET_KEY\")) \\\n",
    "            .config(\"spark.hadoop.fs.s3a.path.style.access\", \"true\") \\\n",
    "            .config(\"spark.hadoop.com.amazonaws.services.s3.enableV4\", \"true\") \\\n",
    "            .config(\"spark.hadoop.fs.s3a.aws.credentials.provider\",\"org.apache.hadoop.fs.s3a.SimpleAWSCredentialsProvider\") \\\n",
    "            .config(\"spark.hadoop.fs.AbstractFileSystem.s3a.impl\",\"org.apache.hadoop.fs.s3a.S3A\") \\\n",
    "            .getOrCreate()    "
   ]
  },
  {
   "cell_type": "code",
   "execution_count": 3,
   "id": "faa9b685-6330-4667-a180-38da189d58af",
   "metadata": {},
   "outputs": [],
   "source": [
    "#lendo tabela\n",
    "emp_path = \"s3a://bronze/employe\"\n",
    "spark.read.format(\"delta\").load(emp_path).createOrReplaceTempView(\"employe\")"
   ]
  },
  {
   "cell_type": "code",
   "execution_count": 8,
   "id": "1903c802-58c4-4f86-81fe-d3863101ca25",
   "metadata": {},
   "outputs": [
    {
     "data": {
      "text/plain": [
       "DataFrame[]"
      ]
     },
     "execution_count": 8,
     "metadata": {},
     "output_type": "execute_result"
    }
   ],
   "source": [
    "emp_path = \"s3a://silver/employe_scd2\"\n",
    "\n",
    "spark.sql(f\"\"\"\n",
    "CREATE TABLE IF NOT EXISTS employe_scd2 (\n",
    "    emp_id INT,\n",
    "    emp_name STRING,\n",
    "    dept_code STRING,\n",
    "    salary DOUBLE,\n",
    "    start_date DATE,\n",
    "    end_date DATE,\n",
    "    is_current BOOLEAN\n",
    ") USING DELTA LOCATION '{emp_path}'\n",
    "\"\"\")\n",
    "\n",
    "spark.sql(\"\"\"\n",
    "INSERT INTO employe_scd2 (emp_id, emp_name, dept_code, salary, start_date, end_date, is_current)\n",
    "VALUES\n",
    "    (1001, 'Alice', 'D101', 50000, '2020-01-01', NULL, TRUE),\n",
    "    (1002, 'Bob', 'D102', 60000, '2020-01-01', NULL, TRUE),\n",
    "    (1003, 'Charlie', 'D103', 70000, '2020-01-01', NULL, TRUE)\n",
    "\"\"\")"
   ]
  },
  {
   "cell_type": "code",
   "execution_count": 6,
   "id": "554040d6-53bf-4db7-9a59-d842fcd35f95",
   "metadata": {},
   "outputs": [
    {
     "name": "stdout",
     "output_type": "stream",
     "text": [
      "+------+--------+---------+-------+----------+----------+----------+\n",
      "|emp_id|emp_name|dept_code| salary|start_date|  end_date|is_current|\n",
      "+------+--------+---------+-------+----------+----------+----------+\n",
      "|  1001|   Alice|     D101| 2000.0|2025-03-30|      NULL|      true|\n",
      "|  1002|     Bob|     D102|62000.0|2025-03-30|      NULL|      true|\n",
      "|  1001|   Alice|     D101|50000.0|2020-01-01|2025-03-30|     false|\n",
      "|  1002|     Bob|     D102|60000.0|2020-01-01|2025-03-30|     false|\n",
      "|  1003| Charlie|     D103|70000.0|2020-01-01|      NULL|      true|\n",
      "|  1006|   Frank|     D106|70000.0|2025-03-30|      NULL|      true|\n",
      "|  1007|   Grace|     D107|75000.0|2025-03-30|      NULL|      true|\n",
      "+------+--------+---------+-------+----------+----------+----------+\n",
      "\n"
     ]
    }
   ],
   "source": [
    "spark.sql(\"SELECT * FROM employe_scd2\").show()"
   ]
  },
  {
   "cell_type": "code",
   "execution_count": 7,
   "id": "4c3731b1-f1d1-4510-b6da-8a102b6c0413",
   "metadata": {},
   "outputs": [
    {
     "name": "stdout",
     "output_type": "stream",
     "text": [
      "+------+--------+---------+-------+\n",
      "|emp_id|emp_name|dept_code| salary|\n",
      "+------+--------+---------+-------+\n",
      "|  1006|   Frank|     D106|70000.0|\n",
      "|  1007|   Grace|     D107|75000.0|\n",
      "|  1001|   Alice|     D101| 1000.0|\n",
      "|  1002|     Bob|     D102|62000.0|\n",
      "+------+--------+---------+-------+\n",
      "\n"
     ]
    }
   ],
   "source": [
    "spark.sql(\"SELECT * FROM employe\").show()"
   ]
  },
  {
   "cell_type": "markdown",
   "id": "c6709318-5f2b-406f-9e64-ed32f4fa6e45",
   "metadata": {},
   "source": [
    "# SCD2"
   ]
  },
  {
   "cell_type": "code",
   "execution_count": 8,
   "id": "afff46f5-2306-4a9e-b400-2640e98ef569",
   "metadata": {},
   "outputs": [],
   "source": [
    "customersTable  = DeltaTable.forPath(spark, emp_path)  # Tabela Delta que contém os registros de empregados históricos\n",
    "updatesDF  = spark.table(\"employe\")  # DataFrame com os novos dados"
   ]
  },
  {
   "cell_type": "code",
   "execution_count": 9,
   "id": "6b780cbe-cc0e-4e74-a1b2-8c821bb52a06",
   "metadata": {},
   "outputs": [],
   "source": [
    "newRecordsToInsert = updatesDF.alias(\"updates\") \\\n",
    "    .join(customersTable.toDF().alias(\"customers\"), \"emp_id\") \\\n",
    "    .where(\n",
    "        \"(customers.is_current = TRUE AND (updates.salary <> customers.salary OR updates.emp_name <> customers.emp_name OR updates.dept_code <> customers.dept_code))\"\n",
    "    )"
   ]
  },
  {
   "cell_type": "code",
   "execution_count": 10,
   "id": "6c801cb3-1211-4af8-9f12-ca84eb68f89d",
   "metadata": {},
   "outputs": [
    {
     "name": "stdout",
     "output_type": "stream",
     "text": [
      "+------+--------+---------+------+--------+---------+------+----------+--------+----------+\n",
      "|emp_id|emp_name|dept_code|salary|emp_name|dept_code|salary|start_date|end_date|is_current|\n",
      "+------+--------+---------+------+--------+---------+------+----------+--------+----------+\n",
      "|  1001|   Alice|     D101|1000.0|   Alice|     D101|2000.0|2025-03-30|    NULL|      true|\n",
      "+------+--------+---------+------+--------+---------+------+----------+--------+----------+\n",
      "\n"
     ]
    }
   ],
   "source": [
    "newRecordsToInsert.show()"
   ]
  },
  {
   "cell_type": "code",
   "execution_count": 11,
   "id": "d564d173-b21f-4ee6-9258-4be720639ce1",
   "metadata": {},
   "outputs": [],
   "source": [
    "# Criando o DataFrame com os registros a serem inseridos e atualizados\n",
    "stagedUpdates = (\n",
    "    newRecordsToInsert\n",
    "    .selectExpr(\"NULL as mergeKey\", \"updates.emp_id\", \"updates.emp_name\", \"updates.dept_code\", \"updates.salary\")  # Criamos um mergeKey (uma chave fictícia) com o valor NULL. Esse é um truque para identificar quais registros serão inseridos.\n",
    "    .union(updatesDF.selectExpr(\"emp_id as mergeKey\", \"emp_id\", \"emp_name\", \"dept_code\", \"salary\"))  # Estamos pegando as colunas de updates (dados de empregados) e preparando para a inserção. Esse conjunto de dados é para os registros novos.\n",
    ")\n"
   ]
  },
  {
   "cell_type": "code",
   "execution_count": 12,
   "id": "f6c63f4f-0984-4bf4-a130-39c0421ec43b",
   "metadata": {},
   "outputs": [
    {
     "name": "stdout",
     "output_type": "stream",
     "text": [
      "+--------+------+--------+---------+-------+\n",
      "|mergeKey|emp_id|emp_name|dept_code| salary|\n",
      "+--------+------+--------+---------+-------+\n",
      "|    NULL|  1001|   Alice|     D101| 1000.0|\n",
      "|    1006|  1006|   Frank|     D106|70000.0|\n",
      "|    1007|  1007|   Grace|     D107|75000.0|\n",
      "|    1001|  1001|   Alice|     D101| 1000.0|\n",
      "|    1002|  1002|     Bob|     D102|62000.0|\n",
      "+--------+------+--------+---------+-------+\n",
      "\n"
     ]
    }
   ],
   "source": [
    "stagedUpdates.show()"
   ]
  },
  {
   "cell_type": "code",
   "execution_count": 13,
   "id": "fadff4d4-b6ae-4a41-b3c9-8427cb42569a",
   "metadata": {},
   "outputs": [],
   "source": [
    "# Aplicando a operação SCD Tipo 2 com o comando MERGE\n",
    "customersTable.alias(\"customers\").merge(\n",
    "    stagedUpdates.alias(\"staged_updates\"),\n",
    "    \"customers.emp_id = staged_updates.mergeKey\"  # A chave de mesclagem é emp_id\n",
    ") \\\n",
    ".whenMatchedUpdate(\n",
    "    condition = \"customers.is_current = true AND (customers.salary <> staged_updates.salary OR customers.emp_name <> staged_updates.emp_name OR customers.dept_code <> staged_updates.dept_code)\", \n",
    "    set = {  \n",
    "        \"is_current\": \"false\",  # Atualiza o campo 'is_current' para false para registros alterados\n",
    "        \"end_date\": \"current_date()\"  # Define a data de término para o registro modificado\n",
    "    }\n",
    ") \\\n",
    ".whenNotMatchedInsert(\n",
    "    values = {\n",
    "        \"emp_id\": \"staged_updates.emp_id\",  # Insere os dados na tabela\n",
    "        \"emp_name\": \"staged_updates.emp_name\",\n",
    "        \"dept_code\": \"staged_updates.dept_code\",\n",
    "        \"salary\": \"staged_updates.salary\",\n",
    "        \"start_date\": \"current_date()\",  # Define a data de início para o novo registro\n",
    "        \"end_date\": \"NULL\",  # O campo end_date para o novo registro será NULL\n",
    "        \"is_current\": \"true\"  # Marca o novo registro como 'atual'\n",
    "    }\n",
    ") \\\n",
    ".execute()"
   ]
  },
  {
   "cell_type": "code",
   "execution_count": 36,
   "id": "205ff378-6541-471d-a311-0c84cf511a66",
   "metadata": {},
   "outputs": [
    {
     "name": "stdout",
     "output_type": "stream",
     "text": [
      "-RECORD 0---------------------------------------------------------------------------------------------------------------------------------------------------------------------------------------------------------------------------------------------------------------------------------------------------------------------------------------------------------------------------------------------------------------------------------------------------------------------------------------------------------------------------------------------------------------------------------------------------------------------------------------------------------------------\n",
      " version             | 2                                                                                                                                                                                                                                                                                                                                                                                                                                                                                                                                                                                                                                                      \n",
      " timestamp           | 2025-03-29 21:39:08                                                                                                                                                                                                                                                                                                                                                                                                                                                                                                                                                                                                                                    \n",
      " userId              | NULL                                                                                                                                                                                                                                                                                                                                                                                                                                                                                                                                                                                                                                                   \n",
      " userName            | NULL                                                                                                                                                                                                                                                                                                                                                                                                                                                                                                                                                                                                                                                   \n",
      " operation           | MERGE                                                                                                                                                                                                                                                                                                                                                                                                                                                                                                                                                                                                                                                  \n",
      " operationParameters | {predicate -> [\"(emp_id#2386 = mergeKey#2626)\"], matchedPredicates -> [{\"predicate\":\"((is_current#2392 = true) AND ((NOT (salary#2389 = salary#51) OR NOT (emp_name#2387 = emp_name#49)) OR NOT (dept_code#2388 = dept_code#50)))\",\"actionType\":\"update\"}], notMatchedPredicates -> [{\"actionType\":\"insert\"}], notMatchedBySourcePredicates -> []}                                                                                                                                                                                                                                                                                                     \n",
      " job                 | NULL                                                                                                                                                                                                                                                                                                                                                                                                                                                                                                                                                                                                                                                   \n",
      " notebook            | NULL                                                                                                                                                                                                                                                                                                                                                                                                                                                                                                                                                                                                                                                   \n",
      " clusterId           | NULL                                                                                                                                                                                                                                                                                                                                                                                                                                                                                                                                                                                                                                                   \n",
      " readVersion         | 1                                                                                                                                                                                                                                                                                                                                                                                                                                                                                                                                                                                                                                                      \n",
      " isolationLevel      | Serializable                                                                                                                                                                                                                                                                                                                                                                                                                                                                                                                                                                                                                                           \n",
      " isBlindAppend       | false                                                                                                                                                                                                                                                                                                                                                                                                                                                                                                                                                                                                                                                  \n",
      " operationMetrics    | {numTargetRowsCopied -> 1, numTargetRowsDeleted -> 0, numTargetFilesAdded -> 1, numTargetBytesAdded -> 2227, numTargetBytesRemoved -> 3819, numTargetDeletionVectorsAdded -> 0, numTargetRowsMatchedUpdated -> 2, executionTimeMs -> 2685, numTargetRowsInserted -> 4, numTargetRowsMatchedDeleted -> 0, numTargetDeletionVectorsUpdated -> 0, scanTimeMs -> 803, numTargetRowsUpdated -> 2, numOutputRows -> 7, numTargetDeletionVectorsRemoved -> 0, numTargetRowsNotMatchedBySourceUpdated -> 0, numTargetChangeFilesAdded -> 0, numSourceRows -> 6, numTargetFilesRemoved -> 2, numTargetRowsNotMatchedBySourceDeleted -> 0, rewriteTimeMs -> 862} \n",
      " userMetadata        | NULL                                                                                                                                                                                                                                                                                                                                                                                                                                                                                                                                                                                                                                                   \n",
      " engineInfo          | Apache-Spark/3.5.2 Delta-Lake/3.2.0                                                                                                                                                                                                                                                                                                                                                                                                                                                                                                                                                                                                                    \n",
      "-RECORD 1---------------------------------------------------------------------------------------------------------------------------------------------------------------------------------------------------------------------------------------------------------------------------------------------------------------------------------------------------------------------------------------------------------------------------------------------------------------------------------------------------------------------------------------------------------------------------------------------------------------------------------------------------------------------\n",
      " version             | 1                                                                                                                                                                                                                                                                                                                                                                                                                                                                                                                                                                                                                                                      \n",
      " timestamp           | 2025-03-29 21:33:53                                                                                                                                                                                                                                                                                                                                                                                                                                                                                                                                                                                                                                    \n",
      " userId              | NULL                                                                                                                                                                                                                                                                                                                                                                                                                                                                                                                                                                                                                                                   \n",
      " userName            | NULL                                                                                                                                                                                                                                                                                                                                                                                                                                                                                                                                                                                                                                                   \n",
      " operation           | WRITE                                                                                                                                                                                                                                                                                                                                                                                                                                                                                                                                                                                                                                                  \n",
      " operationParameters | {mode -> Append, partitionBy -> []}                                                                                                                                                                                                                                                                                                                                                                                                                                                                                                                                                                                                                    \n",
      " job                 | NULL                                                                                                                                                                                                                                                                                                                                                                                                                                                                                                                                                                                                                                                   \n",
      " notebook            | NULL                                                                                                                                                                                                                                                                                                                                                                                                                                                                                                                                                                                                                                                   \n",
      " clusterId           | NULL                                                                                                                                                                                                                                                                                                                                                                                                                                                                                                                                                                                                                                                   \n",
      " readVersion         | 0                                                                                                                                                                                                                                                                                                                                                                                                                                                                                                                                                                                                                                                      \n",
      " isolationLevel      | Serializable                                                                                                                                                                                                                                                                                                                                                                                                                                                                                                                                                                                                                                           \n",
      " isBlindAppend       | true                                                                                                                                                                                                                                                                                                                                                                                                                                                                                                                                                                                                                                                   \n",
      " operationMetrics    | {numFiles -> 2, numOutputRows -> 3, numOutputBytes -> 3819}                                                                                                                                                                                                                                                                                                                                                                                                                                                                                                                                                                                            \n",
      " userMetadata        | NULL                                                                                                                                                                                                                                                                                                                                                                                                                                                                                                                                                                                                                                                   \n",
      " engineInfo          | Apache-Spark/3.5.2 Delta-Lake/3.2.0                                                                                                                                                                                                                                                                                                                                                                                                                                                                                                                                                                                                                    \n",
      "-RECORD 2---------------------------------------------------------------------------------------------------------------------------------------------------------------------------------------------------------------------------------------------------------------------------------------------------------------------------------------------------------------------------------------------------------------------------------------------------------------------------------------------------------------------------------------------------------------------------------------------------------------------------------------------------------------------\n",
      " version             | 0                                                                                                                                                                                                                                                                                                                                                                                                                                                                                                                                                                                                                                                      \n",
      " timestamp           | 2025-03-29 21:33:50                                                                                                                                                                                                                                                                                                                                                                                                                                                                                                                                                                                                                                    \n",
      " userId              | NULL                                                                                                                                                                                                                                                                                                                                                                                                                                                                                                                                                                                                                                                   \n",
      " userName            | NULL                                                                                                                                                                                                                                                                                                                                                                                                                                                                                                                                                                                                                                                   \n",
      " operation           | CREATE TABLE                                                                                                                                                                                                                                                                                                                                                                                                                                                                                                                                                                                                                                           \n",
      " operationParameters | {partitionBy -> [], clusterBy -> [], description -> NULL, isManaged -> false, properties -> {}}                                                                                                                                                                                                                                                                                                                                                                                                                                                                                                                                                        \n",
      " job                 | NULL                                                                                                                                                                                                                                                                                                                                                                                                                                                                                                                                                                                                                                                   \n",
      " notebook            | NULL                                                                                                                                                                                                                                                                                                                                                                                                                                                                                                                                                                                                                                                   \n",
      " clusterId           | NULL                                                                                                                                                                                                                                                                                                                                                                                                                                                                                                                                                                                                                                                   \n",
      " readVersion         | NULL                                                                                                                                                                                                                                                                                                                                                                                                                                                                                                                                                                                                                                                   \n",
      " isolationLevel      | Serializable                                                                                                                                                                                                                                                                                                                                                                                                                                                                                                                                                                                                                                           \n",
      " isBlindAppend       | true                                                                                                                                                                                                                                                                                                                                                                                                                                                                                                                                                                                                                                                   \n",
      " operationMetrics    | {}                                                                                                                                                                                                                                                                                                                                                                                                                                                                                                                                                                                                                                                     \n",
      " userMetadata        | NULL                                                                                                                                                                                                                                                                                                                                                                                                                                                                                                                                                                                                                                                   \n",
      " engineInfo          | Apache-Spark/3.5.2 Delta-Lake/3.2.0                                                                                                                                                                                                                                                                                                                                                                                                                                                                                                                                                                                                                    \n",
      "\n"
     ]
    }
   ],
   "source": [
    "spark.sql(\"DESCRIBE HISTORY employe_scd2\").show(vertical=True, truncate=False)"
   ]
  }
 ],
 "metadata": {
  "kernelspec": {
   "display_name": "Python 3 (ipykernel)",
   "language": "python",
   "name": "python3"
  },
  "language_info": {
   "codemirror_mode": {
    "name": "ipython",
    "version": 3
   },
   "file_extension": ".py",
   "mimetype": "text/x-python",
   "name": "python",
   "nbconvert_exporter": "python",
   "pygments_lexer": "ipython3",
   "version": "3.11.9"
  }
 },
 "nbformat": 4,
 "nbformat_minor": 5
}
